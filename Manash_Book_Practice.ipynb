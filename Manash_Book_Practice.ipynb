{
 "cells": [
  {
   "cell_type": "markdown",
   "metadata": {
    "colab_type": "text",
    "id": "x58Vvkbzupya"
   },
   "source": [
    "**Install PyDrive**"
   ]
  },
  {
   "cell_type": "code",
   "execution_count": 1,
   "metadata": {
    "colab": {
     "base_uri": "https://localhost:8080/",
     "height": 50
    },
    "colab_type": "code",
    "executionInfo": {
     "elapsed": 62968,
     "status": "ok",
     "timestamp": 1557937332939,
     "user": {
      "displayName": "Md. Josim Uddin",
      "photoUrl": "https://lh6.googleusercontent.com/-2M7C8k0AC7o/AAAAAAAAAAI/AAAAAAAADao/mZMp7-uOgNk/s64/photo.jpg",
      "userId": "09483004877373085284"
     },
     "user_tz": -360
    },
    "id": "z2x7f2onlr0K",
    "outputId": "d0d9d221-36f5-419c-be71-2f9a48b883e2"
   },
   "outputs": [],
   "source": [
    "# PyDrive dependencies which is used for importing data set from google drive\n",
    "\n",
    "# !pip install -U -q PyDrive\n",
    "\n",
    "# Import modules\n",
    "# from pydrive.auth import GoogleAuth\n",
    "# from pydrive.drive import GoogleDrive\n",
    "# from google.colab import auth\n",
    "# from oauth2client.client import GoogleCredentials\n",
    "\n",
    "# Authenticate and create the PyDrive client\n",
    "# auth.authenticate_user()\n",
    "# gauth = GoogleAuth()\n",
    "# gauth.credentials = GoogleCredentials.get_application_default()\n",
    "# drive = GoogleDrive(gauth)"
   ]
  },
  {
   "cell_type": "code",
   "execution_count": null,
   "metadata": {
    "colab": {},
    "colab_type": "code",
    "id": "MA4ZWKdOwAJr"
   },
   "outputs": [],
   "source": [
    "\n",
    "\n",
    "# Data dependencies\n",
    "import pandas as pd\n",
    "import numpy as np\n",
    "import matplotlib.pyplot as plt\n",
    "plt.rcParams['figure.figsize'] = [16, 10]\n",
    "import seaborn as sns\n",
    "\n",
    "from sklearn.model_selection import train_test_split\n",
    "import xgboost as xgb\n",
    "\n",
    "%matplotlib inline\n",
    "plt.rcParams['axes.unicode_minus'] = False"
   ]
  },
  {
   "cell_type": "code",
   "execution_count": 0,
   "metadata": {
    "colab": {},
    "colab_type": "code",
    "id": "geF5k1fbxVN3"
   },
   "outputs": [],
   "source": [
    "# data_set = drive.CreateFile({'id':\"driver_file_id\"})\n",
    "# data_set.GetContentFile('pima-data.csv')"
   ]
  },
  {
   "cell_type": "code",
   "execution_count": null,
   "metadata": {
    "colab": {
     "base_uri": "https://localhost:8080/",
     "height": 156
    },
    "colab_type": "code",
    "executionInfo": {
     "elapsed": 64924,
     "status": "ok",
     "timestamp": 1557937334939,
     "user": {
      "displayName": "Md. Josim Uddin",
      "photoUrl": "https://lh6.googleusercontent.com/-2M7C8k0AC7o/AAAAAAAAAAI/AAAAAAAADao/mZMp7-uOgNk/s64/photo.jpg",
      "userId": "09483004877373085284"
     },
     "user_tz": -360
    },
    "id": "xq0HQW84wRX7",
    "outputId": "3cff2919-8541-4152-be25-ce529714ce5d"
   },
   "outputs": [],
   "source": [
    "data_frame = pd.read_csv('datasets/pima-data.csv')\n",
    "data_frame.head(3)"
   ]
  },
  {
   "cell_type": "code",
   "execution_count": 8,
   "metadata": {
    "colab": {
     "base_uri": "https://localhost:8080/",
     "height": 1226
    },
    "colab_type": "code",
    "executionInfo": {
     "elapsed": 64900,
     "status": "ok",
     "timestamp": 1557937334942,
     "user": {
      "displayName": "Md. Josim Uddin",
      "photoUrl": "https://lh6.googleusercontent.com/-2M7C8k0AC7o/AAAAAAAAAAI/AAAAAAAADao/mZMp7-uOgNk/s64/photo.jpg",
      "userId": "09483004877373085284"
     },
     "user_tz": -360
    },
    "id": "k6oiPSxq0pG_",
    "outputId": "e61455d5-d21e-4a8c-b478-48ce14f40063"
   },
   "outputs": [
    {
     "name": "stdout",
     "output_type": "stream",
     "text": [
      "     num_preg  glucose_conc  diastolic_bp  ...    age   skin  diabetes\n",
      "0       False         False         False  ...  False  False     False\n",
      "1       False         False         False  ...  False  False     False\n",
      "2       False         False         False  ...  False  False     False\n",
      "3       False         False         False  ...  False  False     False\n",
      "4       False         False         False  ...  False  False     False\n",
      "5       False         False         False  ...  False  False     False\n",
      "6       False         False         False  ...  False  False     False\n",
      "7       False         False         False  ...  False  False     False\n",
      "8       False         False         False  ...  False  False     False\n",
      "9       False         False         False  ...  False  False     False\n",
      "10      False         False         False  ...  False  False     False\n",
      "11      False         False         False  ...  False  False     False\n",
      "12      False         False         False  ...  False  False     False\n",
      "13      False         False         False  ...  False  False     False\n",
      "14      False         False         False  ...  False  False     False\n",
      "15      False         False         False  ...  False  False     False\n",
      "16      False         False         False  ...  False  False     False\n",
      "17      False         False         False  ...  False  False     False\n",
      "18      False         False         False  ...  False  False     False\n",
      "19      False         False         False  ...  False  False     False\n",
      "20      False         False         False  ...  False  False     False\n",
      "21      False         False         False  ...  False  False     False\n",
      "22      False         False         False  ...  False  False     False\n",
      "23      False         False         False  ...  False  False     False\n",
      "24      False         False         False  ...  False  False     False\n",
      "25      False         False         False  ...  False  False     False\n",
      "26      False         False         False  ...  False  False     False\n",
      "27      False         False         False  ...  False  False     False\n",
      "28      False         False         False  ...  False  False     False\n",
      "29      False         False         False  ...  False  False     False\n",
      "..        ...           ...           ...  ...    ...    ...       ...\n",
      "738     False         False         False  ...  False  False     False\n",
      "739     False         False         False  ...  False  False     False\n",
      "740     False         False         False  ...  False  False     False\n",
      "741     False         False         False  ...  False  False     False\n",
      "742     False         False         False  ...  False  False     False\n",
      "743     False         False         False  ...  False  False     False\n",
      "744     False         False         False  ...  False  False     False\n",
      "745     False         False         False  ...  False  False     False\n",
      "746     False         False         False  ...  False  False     False\n",
      "747     False         False         False  ...  False  False     False\n",
      "748     False         False         False  ...  False  False     False\n",
      "749     False         False         False  ...  False  False     False\n",
      "750     False         False         False  ...  False  False     False\n",
      "751     False         False         False  ...  False  False     False\n",
      "752     False         False         False  ...  False  False     False\n",
      "753     False         False         False  ...  False  False     False\n",
      "754     False         False         False  ...  False  False     False\n",
      "755     False         False         False  ...  False  False     False\n",
      "756     False         False         False  ...  False  False     False\n",
      "757     False         False         False  ...  False  False     False\n",
      "758     False         False         False  ...  False  False     False\n",
      "759     False         False         False  ...  False  False     False\n",
      "760     False         False         False  ...  False  False     False\n",
      "761     False         False         False  ...  False  False     False\n",
      "762     False         False         False  ...  False  False     False\n",
      "763     False         False         False  ...  False  False     False\n",
      "764     False         False         False  ...  False  False     False\n",
      "765     False         False         False  ...  False  False     False\n",
      "766     False         False         False  ...  False  False     False\n",
      "767     False         False         False  ...  False  False     False\n",
      "\n",
      "[768 rows x 10 columns]\n",
      "[[False False False ... False False False]\n",
      " [False False False ... False False False]\n",
      " [False False False ... False False False]\n",
      " ...\n",
      " [False False False ... False False False]\n",
      " [False False False ... False False False]\n",
      " [False False False ... False False False]]\n",
      "False\n"
     ]
    }
   ],
   "source": [
    "print(data_frame.isnull()) # Replace all values with ture/false\n",
    "print(data_frame.isnull().values) # Makes an array with true/false value\n",
    "print(data_frame.isnull().values.any()) # checks is there any cell empty or not, returns false if not empty"
   ]
  },
  {
   "cell_type": "code",
   "execution_count": 0,
   "metadata": {
    "colab": {},
    "colab_type": "code",
    "id": "LWsNcDyj8jTG"
   },
   "outputs": [],
   "source": [
    "#Correlation Mattrix Heatmapt\n",
    "#Heat map generator function\n",
    "def corr_heatmap(data_frame, size = 11): #here size means plot size\n",
    "    correlation = data_frame.corr()\n",
    "\n",
    "    #dividing the plot into subplots for increasing size of plots\n",
    "    fig, heatmap = plt.subplots(figsize=(size, size))\n",
    "    #plotting the correlation heatmap\n",
    "    heatmap.matshow(correlation)\n",
    "\n",
    "    #adding xticks yticks\n",
    "    plt.xticks(range(len(correlation.columns)), correlation.columns)\n",
    "    plt.yticks(range(len(correlation.columns)), correlation.columns)\n",
    "\n",
    "    #Display the graph\n",
    "    plt.show()"
   ]
  },
  {
   "cell_type": "code",
   "execution_count": 10,
   "metadata": {
    "colab": {
     "base_uri": "https://localhost:8080/",
     "height": 670
    },
    "colab_type": "code",
    "executionInfo": {
     "elapsed": 65522,
     "status": "ok",
     "timestamp": 1557937335599,
     "user": {
      "displayName": "Md. Josim Uddin",
      "photoUrl": "https://lh6.googleusercontent.com/-2M7C8k0AC7o/AAAAAAAAAAI/AAAAAAAADao/mZMp7-uOgNk/s64/photo.jpg",
      "userId": "09483004877373085284"
     },
     "user_tz": -360
    },
    "id": "0XGdfpOk9eTN",
    "outputId": "e932b335-5d5c-498f-a448-be914ab4bd9a"
   },
   "outputs": [
    {
     "data": {
      "image/png": "[encoded data removed]",
      "text/plain": [
       "<Figure size 792x792 with 1 Axes>"
      ]
     },
     "metadata": {
      "tags": []
     },
     "output_type": "display_data"
    }
   ],
   "source": [
    "corr_heatmap(data_frame)"
   ]
  },
  {
   "cell_type": "code",
   "execution_count": 11,
   "metadata": {
    "colab": {
     "base_uri": "https://localhost:8080/",
     "height": 215
    },
    "colab_type": "code",
    "executionInfo": {
     "elapsed": 65511,
     "status": "ok",
     "timestamp": 1557937335601,
     "user": {
      "displayName": "Md. Josim Uddin",
      "photoUrl": "https://lh6.googleusercontent.com/-2M7C8k0AC7o/AAAAAAAAAAI/AAAAAAAADao/mZMp7-uOgNk/s64/photo.jpg",
      "userId": "09483004877373085284"
     },
     "user_tz": -360
    },
    "id": "0jrpHAow9hrg",
    "outputId": "17a3de44-3c46-4bf2-adc0-11eb7885f9bb"
   },
   "outputs": [
    {
     "data": {
      "text/html": [
       "<div>\n",
       "<style scoped>\n",
       "    .dataframe tbody tr th:only-of-type {\n",
       "        vertical-align: middle;\n",
       "    }\n",
       "\n",
       "    .dataframe tbody tr th {\n",
       "        vertical-align: top;\n",
       "    }\n",
       "\n",
       "    .dataframe thead th {\n",
       "        text-align: right;\n",
       "    }\n",
       "</style>\n",
       "<table border=\"1\" class=\"dataframe\">\n",
       "  <thead>\n",
       "    <tr style=\"text-align: right;\">\n",
       "      <th></th>\n",
       "      <th>num_preg</th>\n",
       "      <th>glucose_conc</th>\n",
       "      <th>diastolic_bp</th>\n",
       "      <th>thickness</th>\n",
       "      <th>insulin</th>\n",
       "      <th>bmi</th>\n",
       "      <th>diab_pred</th>\n",
       "      <th>age</th>\n",
       "      <th>diabetes</th>\n",
       "    </tr>\n",
       "  </thead>\n",
       "  <tbody>\n",
       "    <tr>\n",
       "      <th>0</th>\n",
       "      <td>6</td>\n",
       "      <td>148</td>\n",
       "      <td>72</td>\n",
       "      <td>35</td>\n",
       "      <td>0</td>\n",
       "      <td>33.6</td>\n",
       "      <td>0.627</td>\n",
       "      <td>50</td>\n",
       "      <td>True</td>\n",
       "    </tr>\n",
       "    <tr>\n",
       "      <th>1</th>\n",
       "      <td>1</td>\n",
       "      <td>85</td>\n",
       "      <td>66</td>\n",
       "      <td>29</td>\n",
       "      <td>0</td>\n",
       "      <td>26.6</td>\n",
       "      <td>0.351</td>\n",
       "      <td>31</td>\n",
       "      <td>False</td>\n",
       "    </tr>\n",
       "    <tr>\n",
       "      <th>2</th>\n",
       "      <td>8</td>\n",
       "      <td>183</td>\n",
       "      <td>64</td>\n",
       "      <td>0</td>\n",
       "      <td>0</td>\n",
       "      <td>23.3</td>\n",
       "      <td>0.672</td>\n",
       "      <td>32</td>\n",
       "      <td>True</td>\n",
       "    </tr>\n",
       "    <tr>\n",
       "      <th>3</th>\n",
       "      <td>1</td>\n",
       "      <td>89</td>\n",
       "      <td>66</td>\n",
       "      <td>23</td>\n",
       "      <td>94</td>\n",
       "      <td>28.1</td>\n",
       "      <td>0.167</td>\n",
       "      <td>21</td>\n",
       "      <td>False</td>\n",
       "    </tr>\n",
       "    <tr>\n",
       "      <th>4</th>\n",
       "      <td>0</td>\n",
       "      <td>137</td>\n",
       "      <td>40</td>\n",
       "      <td>35</td>\n",
       "      <td>168</td>\n",
       "      <td>43.1</td>\n",
       "      <td>2.288</td>\n",
       "      <td>33</td>\n",
       "      <td>True</td>\n",
       "    </tr>\n",
       "  </tbody>\n",
       "</table>\n",
       "</div>"
      ],
      "text/plain": [
       "   num_preg  glucose_conc  diastolic_bp  ...  diab_pred  age  diabetes\n",
       "0         6           148            72  ...      0.627   50      True\n",
       "1         1            85            66  ...      0.351   31     False\n",
       "2         8           183            64  ...      0.672   32      True\n",
       "3         1            89            66  ...      0.167   21     False\n",
       "4         0           137            40  ...      2.288   33      True\n",
       "\n",
       "[5 rows x 9 columns]"
      ]
     },
     "execution_count": 11,
     "metadata": {
      "tags": []
     },
     "output_type": "execute_result"
    }
   ],
   "source": [
    "# now deleting duplicate column butween 'skin' and 'thikness'\n",
    "del data_frame['skin']\n",
    "#checking if the action was successful or not\n",
    "data_frame.head()"
   ]
  },
  {
   "cell_type": "code",
   "execution_count": 12,
   "metadata": {
    "colab": {
     "base_uri": "https://localhost:8080/",
     "height": 215
    },
    "colab_type": "code",
    "executionInfo": {
     "elapsed": 65500,
     "status": "ok",
     "timestamp": 1557937335603,
     "user": {
      "displayName": "Md. Josim Uddin",
      "photoUrl": "https://lh6.googleusercontent.com/-2M7C8k0AC7o/AAAAAAAAAAI/AAAAAAAADao/mZMp7-uOgNk/s64/photo.jpg",
      "userId": "09483004877373085284"
     },
     "user_tz": -360
    },
    "id": "pCxdJAhK9nF6",
    "outputId": "9910a2a9-e01d-411d-db2f-e8935b575e26"
   },
   "outputs": [
    {
     "data": {
      "text/html": [
       "<div>\n",
       "<style scoped>\n",
       "    .dataframe tbody tr th:only-of-type {\n",
       "        vertical-align: middle;\n",
       "    }\n",
       "\n",
       "    .dataframe tbody tr th {\n",
       "        vertical-align: top;\n",
       "    }\n",
       "\n",
       "    .dataframe thead th {\n",
       "        text-align: right;\n",
       "    }\n",
       "</style>\n",
       "<table border=\"1\" class=\"dataframe\">\n",
       "  <thead>\n",
       "    <tr style=\"text-align: right;\">\n",
       "      <th></th>\n",
       "      <th>num_preg</th>\n",
       "      <th>glucose_conc</th>\n",
       "      <th>diastolic_bp</th>\n",
       "      <th>thickness</th>\n",
       "      <th>insulin</th>\n",
       "      <th>bmi</th>\n",
       "      <th>diab_pred</th>\n",
       "      <th>age</th>\n",
       "      <th>diabetes</th>\n",
       "    </tr>\n",
       "  </thead>\n",
       "  <tbody>\n",
       "    <tr>\n",
       "      <th>0</th>\n",
       "      <td>6</td>\n",
       "      <td>148</td>\n",
       "      <td>72</td>\n",
       "      <td>35</td>\n",
       "      <td>0</td>\n",
       "      <td>33.6</td>\n",
       "      <td>0.627</td>\n",
       "      <td>50</td>\n",
       "      <td>1</td>\n",
       "    </tr>\n",
       "    <tr>\n",
       "      <th>1</th>\n",
       "      <td>1</td>\n",
       "      <td>85</td>\n",
       "      <td>66</td>\n",
       "      <td>29</td>\n",
       "      <td>0</td>\n",
       "      <td>26.6</td>\n",
       "      <td>0.351</td>\n",
       "      <td>31</td>\n",
       "      <td>0</td>\n",
       "    </tr>\n",
       "    <tr>\n",
       "      <th>2</th>\n",
       "      <td>8</td>\n",
       "      <td>183</td>\n",
       "      <td>64</td>\n",
       "      <td>0</td>\n",
       "      <td>0</td>\n",
       "      <td>23.3</td>\n",
       "      <td>0.672</td>\n",
       "      <td>32</td>\n",
       "      <td>1</td>\n",
       "    </tr>\n",
       "    <tr>\n",
       "      <th>3</th>\n",
       "      <td>1</td>\n",
       "      <td>89</td>\n",
       "      <td>66</td>\n",
       "      <td>23</td>\n",
       "      <td>94</td>\n",
       "      <td>28.1</td>\n",
       "      <td>0.167</td>\n",
       "      <td>21</td>\n",
       "      <td>0</td>\n",
       "    </tr>\n",
       "    <tr>\n",
       "      <th>4</th>\n",
       "      <td>0</td>\n",
       "      <td>137</td>\n",
       "      <td>40</td>\n",
       "      <td>35</td>\n",
       "      <td>168</td>\n",
       "      <td>43.1</td>\n",
       "      <td>2.288</td>\n",
       "      <td>33</td>\n",
       "      <td>1</td>\n",
       "    </tr>\n",
       "  </tbody>\n",
       "</table>\n",
       "</div>"
      ],
      "text/plain": [
       "   num_preg  glucose_conc  diastolic_bp  ...  diab_pred  age  diabetes\n",
       "0         6           148            72  ...      0.627   50         1\n",
       "1         1            85            66  ...      0.351   31         0\n",
       "2         8           183            64  ...      0.672   32         1\n",
       "3         1            89            66  ...      0.167   21         0\n",
       "4         0           137            40  ...      2.288   33         1\n",
       "\n",
       "[5 rows x 9 columns]"
      ]
     },
     "execution_count": 12,
     "metadata": {
      "tags": []
     },
     "output_type": "execute_result"
    }
   ],
   "source": [
    "#Mapping the values\n",
    "map_diabetes = {True: 1, False: 0}\n",
    "\n",
    "#Setting the map to the data_frame\n",
    "data_frame['diabetes'] = data_frame['diabetes'].map(map_diabetes)\n",
    "\n",
    "#Let's see what we have done\n",
    "data_frame.head()"
   ]
  },
  {
   "cell_type": "code",
   "execution_count": 0,
   "metadata": {
    "colab": {},
    "colab_type": "code",
    "id": "BSoSZM8z9w3t"
   },
   "outputs": [],
   "source": [
    "map_diabetes = {True}"
   ]
  },
  {
   "cell_type": "code",
   "execution_count": 14,
   "metadata": {
    "colab": {
     "base_uri": "https://localhost:8080/",
     "height": 50
    },
    "colab_type": "code",
    "executionInfo": {
     "elapsed": 65485,
     "status": "ok",
     "timestamp": 1557937335611,
     "user": {
      "displayName": "Md. Josim Uddin",
      "photoUrl": "https://lh6.googleusercontent.com/-2M7C8k0AC7o/AAAAAAAAAAI/AAAAAAAADao/mZMp7-uOgNk/s64/photo.jpg",
      "userId": "09483004877373085284"
     },
     "user_tz": -360
    },
    "id": "OXrtjVP392AG",
    "outputId": "20233312-beba-4304-8ae5-d956a9ac2571"
   },
   "outputs": [
    {
     "name": "stdout",
     "output_type": "stream",
     "text": [
      "Number of True Cases: 268.0 (34.90%)\n",
      "Number of False Cases: 500.0 (65.10%)\n"
     ]
    }
   ],
   "source": [
    "num_true = 0.0\n",
    "num_false = 0.0\n",
    "for item in data_frame['diabetes']:\n",
    "    if item == True:\n",
    "        num_true += 1\n",
    "    else:\n",
    "        num_false += 1\n",
    "        \n",
    "percent_true = (num_true / (num_true + num_false)) * 100\n",
    "percent_false = (num_false / (num_true + num_false)) * 100\n",
    "print(\"Number of True Cases: {0} ({1:2.2f}%)\".format(num_true, percent_true))\n",
    "print(\"Number of False Cases: {0} ({1:2.2f}%)\".format(num_false, percent_false))\n",
    "\n",
    "# Another way/pythonic way\n",
    "# num_true = len(data_frame.loc[data_frame['diabetes'] == True])\n",
    "# num_false = len(data_frame.loc[data_frame['diabetes'] == False])\n",
    "# print \"Number of True Cases: {0} ({1:2.2f}%)\".format(num_true, ((float)num_true / (num\n",
    "# _true + num_false)) * 100)\n",
    "# print \"Number of False Cases: {0} ({1:2.2f}%)\".format(num_false, ((float)num_true / (n\n",
    "# um_true + num_false)) * 100)"
   ]
  },
  {
   "cell_type": "code",
   "execution_count": 0,
   "metadata": {
    "colab": {},
    "colab_type": "code",
    "id": "4f2HVHHq96DH"
   },
   "outputs": [],
   "source": [
    "from sklearn.model_selection import train_test_split\n",
    "feature_column_names = ['num_preg', 'glucose_conc', 'diastolic_bp', 'thickness', 'insulin', 'bmi', 'diab_pred', 'age']\n",
    "predicted_class_name = ['diabetes']\n",
    "# Getting feature variable values\n",
    "X = data_frame[feature_column_names].values\n",
    "y = data_frame[predicted_class_name].values\n",
    "# Saving 30% for testing\n",
    "split_test_size = 30\n",
    "# Splitting using scikit-learn train_test_split function\n",
    "X_train, X_test, y_train, y_test = train_test_split(X, y, test_size = split_test_size, random_state = 42)"
   ]
  },
  {
   "cell_type": "code",
   "execution_count": 16,
   "metadata": {
    "colab": {
     "base_uri": "https://localhost:8080/",
     "height": 50
    },
    "colab_type": "code",
    "executionInfo": {
     "elapsed": 65476,
     "status": "ok",
     "timestamp": 1557937335615,
     "user": {
      "displayName": "Md. Josim Uddin",
      "photoUrl": "https://lh6.googleusercontent.com/-2M7C8k0AC7o/AAAAAAAAAAI/AAAAAAAADao/mZMp7-uOgNk/s64/photo.jpg",
      "userId": "09483004877373085284"
     },
     "user_tz": -360
    },
    "id": "YY6y8LLr-DRQ",
    "outputId": "d11519f9-ea67-4939-d335-c3cf142a1483"
   },
   "outputs": [
    {
     "name": "stdout",
     "output_type": "stream",
     "text": [
      "96.09% in training set\n",
      "3.91% in test set\n"
     ]
    }
   ],
   "source": [
    "print(\"{0:0.2f}% in training set\".format((len(X_train)/len(data_frame.index)) * 100))\n",
    "print(\"{0:0.2f}% in test set\".format((len(X_test)/len(data_frame.index)) * 100))\n"
   ]
  },
  {
   "cell_type": "markdown",
   "metadata": {
    "colab_type": "text",
    "id": "dJHW0ebdB2Yz"
   },
   "source": [
    "**Check is there any missing value(0/null)**"
   ]
  },
  {
   "cell_type": "code",
   "execution_count": 17,
   "metadata": {
    "colab": {
     "base_uri": "https://localhost:8080/",
     "height": 151
    },
    "colab_type": "code",
    "executionInfo": {
     "elapsed": 65439,
     "status": "ok",
     "timestamp": 1557937335617,
     "user": {
      "displayName": "Md. Josim Uddin",
      "photoUrl": "https://lh6.googleusercontent.com/-2M7C8k0AC7o/AAAAAAAAAAI/AAAAAAAADao/mZMp7-uOgNk/s64/photo.jpg",
      "userId": "09483004877373085284"
     },
     "user_tz": -360
    },
    "id": "5aq7N_8XAdv2",
    "outputId": "3493e845-3f4a-426d-f633-94253a7fdabd"
   },
   "outputs": [
    {
     "name": "stdout",
     "output_type": "stream",
     "text": [
      "# rows in dataframe 768\n",
      "# rows missing glucose_conc: 5\n",
      "# rows missing diastolic_bp: 35\n",
      "# rows missing thickness: 227\n",
      "# rows missing insulin: 374\n",
      "# rows missing bmi: 11\n",
      "# rows missing diab_pred: 0\n",
      "# rows missing age: 0\n"
     ]
    }
   ],
   "source": [
    "print(\"# rows in dataframe {0}\".format(len(data_frame)))\n",
    "print(\"# rows missing glucose_conc: {0}\".format(len(data_frame.loc[data_frame['glucose_conc'] == 0])))\n",
    "print(\"# rows missing diastolic_bp: {0}\".format(len(data_frame.loc[data_frame['diastolic_bp'] == 0])))\n",
    "print(\"# rows missing thickness: {0}\".format(len(data_frame.loc[data_frame['thickness'] == 0])))\n",
    "print(\"# rows missing insulin: {0}\".format(len(data_frame.loc[data_frame['insulin'] ==0])))\n",
    "print(\"# rows missing bmi: {0}\".format(len(data_frame.loc[data_frame['bmi'] == 0])))\n",
    "print(\"# rows missing diab_pred: {0}\".format(len(data_frame.loc[data_frame['diab_pred'] == 0])))\n",
    "print(\"# rows missing age: {0}\".format(len(data_frame.loc[data_frame['age'] == 0])))\n"
   ]
  },
  {
   "cell_type": "markdown",
   "metadata": {
    "colab_type": "text",
    "id": "WirVvD18CZR5"
   },
   "source": [
    "There is a technic called **Imputation** which is replaces the 0 by some value."
   ]
  },
  {
   "cell_type": "code",
   "execution_count": 18,
   "metadata": {
    "colab": {
     "base_uri": "https://localhost:8080/",
     "height": 70
    },
    "colab_type": "code",
    "executionInfo": {
     "elapsed": 65420,
     "status": "ok",
     "timestamp": 1557937335619,
     "user": {
      "displayName": "Md. Josim Uddin",
      "photoUrl": "https://lh6.googleusercontent.com/-2M7C8k0AC7o/AAAAAAAAAAI/AAAAAAAADao/mZMp7-uOgNk/s64/photo.jpg",
      "userId": "09483004877373085284"
     },
     "user_tz": -360
    },
    "id": "SrxnfuwmBy4E",
    "outputId": "7798fec2-5e42-4e42-9402-366c08635ca4"
   },
   "outputs": [
    {
     "name": "stderr",
     "output_type": "stream",
     "text": [
      "/usr/local/lib/python3.6/dist-packages/sklearn/utils/deprecation.py:58: DeprecationWarning: Class Imputer is deprecated; Imputer was deprecated in version 0.20 and will be removed in 0.22. Import impute.SimpleImputer from sklearn instead.\n",
      "  warnings.warn(msg, category=DeprecationWarning)\n"
     ]
    }
   ],
   "source": [
    "from sklearn.preprocessing import Imputer\n",
    "\n",
    "# Impute with mean all 0 readings\n",
    "fill_0 = Imputer(missing_values = 0, strategy = \"mean\", axis = 0)\n",
    "\n",
    "X_train = fill_0.fit_transform(X_train)\n",
    "X_test = fill_0.fit_transform(X_test)\n"
   ]
  },
  {
   "cell_type": "markdown",
   "metadata": {
    "colab_type": "text",
    "id": "2nhJz2NNET0h"
   },
   "source": [
    "# Model Train\n",
    "\n",
    "finally we are going to train our model with that magical function"
   ]
  },
  {
   "cell_type": "code",
   "execution_count": 19,
   "metadata": {
    "colab": {
     "base_uri": "https://localhost:8080/",
     "height": 34
    },
    "colab_type": "code",
    "executionInfo": {
     "elapsed": 65406,
     "status": "ok",
     "timestamp": 1557937335621,
     "user": {
      "displayName": "Md. Josim Uddin",
      "photoUrl": "https://lh6.googleusercontent.com/-2M7C8k0AC7o/AAAAAAAAAAI/AAAAAAAADao/mZMp7-uOgNk/s64/photo.jpg",
      "userId": "09483004877373085284"
     },
     "user_tz": -360
    },
    "id": "JaoQKWizDDNU",
    "outputId": "519ee2d8-49aa-44ce-b95f-2f0f9e478539"
   },
   "outputs": [
    {
     "data": {
      "text/plain": [
       "GaussianNB(priors=None, var_smoothing=1e-09)"
      ]
     },
     "execution_count": 19,
     "metadata": {
      "tags": []
     },
     "output_type": "execute_result"
    }
   ],
   "source": [
    "from sklearn.naive_bayes import GaussianNB\n",
    "# create Gaussian Naive Bayes model object and train it with the data\n",
    "nb_model = GaussianNB()\n",
    "nb_model.fit(X_train, y_train.ravel())\n"
   ]
  },
  {
   "cell_type": "code",
   "execution_count": 0,
   "metadata": {
    "colab": {},
    "colab_type": "code",
    "id": "hIWFvBymEpxO"
   },
   "outputs": [],
   "source": [
    "# This returns array of predicted results\n",
    "prediction_from_trained_data = nb_model.predict(X_train)"
   ]
  },
  {
   "cell_type": "code",
   "execution_count": 0,
   "metadata": {
    "colab": {},
    "colab_type": "code",
    "id": "XrgZo25BF1Ej"
   },
   "outputs": [],
   "source": []
  },
  {
   "cell_type": "markdown",
   "metadata": {
    "colab_type": "text",
    "id": "9Ib602vlF23N"
   },
   "source": [
    "**Check prediction with trained data**"
   ]
  },
  {
   "cell_type": "code",
   "execution_count": 21,
   "metadata": {
    "colab": {
     "base_uri": "https://localhost:8080/",
     "height": 34
    },
    "colab_type": "code",
    "executionInfo": {
     "elapsed": 65402,
     "status": "ok",
     "timestamp": 1557937335635,
     "user": {
      "displayName": "Md. Josim Uddin",
      "photoUrl": "https://lh6.googleusercontent.com/-2M7C8k0AC7o/AAAAAAAAAAI/AAAAAAAADao/mZMp7-uOgNk/s64/photo.jpg",
      "userId": "09483004877373085284"
     },
     "user_tz": -360
    },
    "id": "zqVYK0DUF-fn",
    "outputId": "d5dca71a-177b-49b7-cf06-2f3ff5193bf3"
   },
   "outputs": [
    {
     "name": "stdout",
     "output_type": "stream",
     "text": [
      "Accuracy of our naive bayes model is : 0.7588\n"
     ]
    }
   ],
   "source": [
    "# performance metrics library\n",
    "from sklearn import metrics\n",
    "# get current accuracy of the model\n",
    "accuracy = metrics.accuracy_score(y_train, prediction_from_trained_data)\n",
    "print(\"Accuracy of our naive bayes model is : {0:.4f}\".format(accuracy))"
   ]
  },
  {
   "cell_type": "markdown",
   "metadata": {
    "colab_type": "text",
    "id": "nTkwNoV_G0Zr"
   },
   "source": [
    "**predict with test data**"
   ]
  },
  {
   "cell_type": "code",
   "execution_count": 22,
   "metadata": {
    "colab": {
     "base_uri": "https://localhost:8080/",
     "height": 34
    },
    "colab_type": "code",
    "executionInfo": {
     "elapsed": 65388,
     "status": "ok",
     "timestamp": 1557937335637,
     "user": {
      "displayName": "Md. Josim Uddin",
      "photoUrl": "https://lh6.googleusercontent.com/-2M7C8k0AC7o/AAAAAAAAAAI/AAAAAAAADao/mZMp7-uOgNk/s64/photo.jpg",
      "userId": "09483004877373085284"
     },
     "user_tz": -360
    },
    "id": "Nv-RGsh3GDH-",
    "outputId": "f9551808-476d-4e62-faf4-48b22bb17a73"
   },
   "outputs": [
    {
     "name": "stdout",
     "output_type": "stream",
     "text": [
      "Accuracy of our naive bayes model is: 0.7000\n"
     ]
    }
   ],
   "source": [
    "# this returns array of predicted results from test_data\n",
    "prediction_from_test_data = nb_model.predict(X_test)\n",
    "accuracy = metrics.accuracy_score(y_test, prediction_from_test_data)\n",
    "print( \"Accuracy of our naive bayes model is: {0:0.4f}\".format(accuracy))\n"
   ]
  },
  {
   "cell_type": "markdown",
   "metadata": {
    "colab_type": "text",
    "id": "74Tq9Tn3QYpw"
   },
   "source": [
    "Performance testing with **Confusion Matrix**"
   ]
  },
  {
   "cell_type": "code",
   "execution_count": 24,
   "metadata": {
    "colab": {
     "base_uri": "https://localhost:8080/",
     "height": 67
    },
    "colab_type": "code",
    "executionInfo": {
     "elapsed": 892,
     "status": "ok",
     "timestamp": 1557937367976,
     "user": {
      "displayName": "Md. Josim Uddin",
      "photoUrl": "https://lh6.googleusercontent.com/-2M7C8k0AC7o/AAAAAAAAAAI/AAAAAAAADao/mZMp7-uOgNk/s64/photo.jpg",
      "userId": "09483004877373085284"
     },
     "user_tz": -360
    },
    "id": "41Ek3O7nHEPb",
    "outputId": "698a719e-c329-4380-9315-655fe3fa9285"
   },
   "outputs": [
    {
     "name": "stdout",
     "output_type": "stream",
     "text": [
      "Confusion Matrix\n",
      "[[ 3  4]\n",
      " [ 5 18]]\n"
     ]
    }
   ],
   "source": [
    "print (\"Confusion Matrix\")\n",
    "# labels for set 1=True to upper left and 0 = False to lower right\n",
    "print (\"{0}\".format(metrics.confusion_matrix(y_test, prediction_from_test_data, labels=[1, 0])))\n"
   ]
  },
  {
   "cell_type": "code",
   "execution_count": 25,
   "metadata": {
    "colab": {
     "base_uri": "https://localhost:8080/",
     "height": 185
    },
    "colab_type": "code",
    "executionInfo": {
     "elapsed": 1265,
     "status": "ok",
     "timestamp": 1557937918813,
     "user": {
      "displayName": "Md. Josim Uddin",
      "photoUrl": "https://lh6.googleusercontent.com/-2M7C8k0AC7o/AAAAAAAAAAI/AAAAAAAADao/mZMp7-uOgNk/s64/photo.jpg",
      "userId": "09483004877373085284"
     },
     "user_tz": -360
    },
    "id": "ul0S3qiWVSud",
    "outputId": "f3e59248-6e67-46f0-f290-c8357bf6bc18"
   },
   "outputs": [
    {
     "name": "stdout",
     "output_type": "stream",
     "text": [
      "Classification Report\n",
      "              precision    recall  f1-score   support\n",
      "\n",
      "           1       0.38      0.43      0.40         7\n",
      "           0       0.82      0.78      0.80        23\n",
      "\n",
      "   micro avg       0.70      0.70      0.70        30\n",
      "   macro avg       0.60      0.61      0.60        30\n",
      "weighted avg       0.71      0.70      0.71        30\n",
      "\n"
     ]
    }
   ],
   "source": [
    "print (\"Classification Report\")\n",
    "# labels for set 1=True to upper left and 0 = False to lower right\n",
    "print (\"{0}\".format(metrics.classification_report(y_test, prediction_from_test_data, labels=[1, 0])))\n"
   ]
  },
  {
   "cell_type": "markdown",
   "metadata": {
    "colab_type": "text",
    "id": "pOf8Qz3nXsBz"
   },
   "source": [
    "# Random Forest\n",
    "Alternative Algorithm to improve our model\n"
   ]
  },
  {
   "cell_type": "code",
   "execution_count": 27,
   "metadata": {
    "colab": {
     "base_uri": "https://localhost:8080/",
     "height": 171
    },
    "colab_type": "code",
    "executionInfo": {
     "elapsed": 2112,
     "status": "ok",
     "timestamp": 1557939754198,
     "user": {
      "displayName": "Md. Josim Uddin",
      "photoUrl": "https://lh6.googleusercontent.com/-2M7C8k0AC7o/AAAAAAAAAAI/AAAAAAAADao/mZMp7-uOgNk/s64/photo.jpg",
      "userId": "09483004877373085284"
     },
     "user_tz": -360
    },
    "id": "i7xEeHQkQfL0",
    "outputId": "18a42aee-028c-426e-9b06-bed2ce2e3cfe"
   },
   "outputs": [
    {
     "name": "stderr",
     "output_type": "stream",
     "text": [
      "/usr/local/lib/python3.6/dist-packages/sklearn/ensemble/forest.py:246: FutureWarning: The default value of n_estimators will change from 10 in version 0.20 to 100 in 0.22.\n",
      "  \"10 in version 0.20 to 100 in 0.22.\", FutureWarning)\n"
     ]
    },
    {
     "data": {
      "text/plain": [
       "RandomForestClassifier(bootstrap=True, class_weight=None, criterion='gini',\n",
       "            max_depth=None, max_features='auto', max_leaf_nodes=None,\n",
       "            min_impurity_decrease=0.0, min_impurity_split=None,\n",
       "            min_samples_leaf=1, min_samples_split=2,\n",
       "            min_weight_fraction_leaf=0.0, n_estimators=10, n_jobs=None,\n",
       "            oob_score=False, random_state=42, verbose=0, warm_start=False)"
      ]
     },
     "execution_count": 27,
     "metadata": {
      "tags": []
     },
     "output_type": "execute_result"
    }
   ],
   "source": [
    "from sklearn.ensemble import RandomForestClassifier\n",
    "#Create a RandomForestClassifier object\n",
    "rf_model = RandomForestClassifier(random_state = 42)\n",
    "rf_model.fit(X_train, y_train.ravel())"
   ]
  },
  {
   "cell_type": "code",
   "execution_count": 30,
   "metadata": {
    "colab": {
     "base_uri": "https://localhost:8080/",
     "height": 34
    },
    "colab_type": "code",
    "executionInfo": {
     "elapsed": 959,
     "status": "ok",
     "timestamp": 1557940766599,
     "user": {
      "displayName": "Md. Josim Uddin",
      "photoUrl": "https://lh6.googleusercontent.com/-2M7C8k0AC7o/AAAAAAAAAAI/AAAAAAAADao/mZMp7-uOgNk/s64/photo.jpg",
      "userId": "09483004877373085284"
     },
     "user_tz": -360
    },
    "id": "M-pJ5rqGb3l9",
    "outputId": "0eacf1f0-c9ea-4efc-9d7b-2665c7b6e9e9"
   },
   "outputs": [
    {
     "name": "stdout",
     "output_type": "stream",
     "text": [
      "Accuracy: 0.9837\n"
     ]
    }
   ],
   "source": [
    "rf_predict_train = rf_model.predict(X_train)\n",
    "\n",
    "#get accuracy\n",
    "rf_accuracy = metrics.accuracy_score(y_train, rf_predict_train)\n",
    "\n",
    "#print accuracy\n",
    "print(\"Accuracy: {0:.4f}\".format(rf_accuracy))"
   ]
  },
  {
   "cell_type": "code",
   "execution_count": 31,
   "metadata": {
    "colab": {
     "base_uri": "https://localhost:8080/",
     "height": 34
    },
    "colab_type": "code",
    "executionInfo": {
     "elapsed": 852,
     "status": "ok",
     "timestamp": 1557940916823,
     "user": {
      "displayName": "Md. Josim Uddin",
      "photoUrl": "https://lh6.googleusercontent.com/-2M7C8k0AC7o/AAAAAAAAAAI/AAAAAAAADao/mZMp7-uOgNk/s64/photo.jpg",
      "userId": "09483004877373085284"
     },
     "user_tz": -360
    },
    "id": "aBA0mLL3ewHP",
    "outputId": "d6bd33c5-5ecf-49e5-b50b-ce6476bd4ed3"
   },
   "outputs": [
    {
     "name": "stdout",
     "output_type": "stream",
     "text": [
      "Accuracy: 0.7\n"
     ]
    }
   ],
   "source": [
    "rf_predict_test = rf_model.predict(X_test)\n",
    "#get accuracy\n",
    "rf_accuracy_testdata = metrics.accuracy_score(y_test, rf_predict_test)\n",
    "\n",
    "#print accuracy\n",
    "print(\"Accuracy: {0:.4}\".format(rf_accuracy_testdata))"
   ]
  },
  {
   "cell_type": "markdown",
   "metadata": {
    "colab_type": "text",
    "id": "mtmDEhlNhe83"
   },
   "source": [
    "Test with confusion matrix"
   ]
  },
  {
   "cell_type": "code",
   "execution_count": 32,
   "metadata": {
    "colab": {
     "base_uri": "https://localhost:8080/",
     "height": 269
    },
    "colab_type": "code",
    "executionInfo": {
     "elapsed": 1228,
     "status": "ok",
     "timestamp": 1557941150520,
     "user": {
      "displayName": "Md. Josim Uddin",
      "photoUrl": "https://lh6.googleusercontent.com/-2M7C8k0AC7o/AAAAAAAAAAI/AAAAAAAADao/mZMp7-uOgNk/s64/photo.jpg",
      "userId": "09483004877373085284"
     },
     "user_tz": -360
    },
    "id": "geOGcB8Yg85z",
    "outputId": "8ede9461-1388-4ba1-d143-7ce087eac6eb"
   },
   "outputs": [
    {
     "name": "stdout",
     "output_type": "stream",
     "text": [
      "Confusion Matrix for Random Forest\n",
      "[[ 2  5]\n",
      " [ 4 19]]\n",
      "\n",
      "Classification Report\n",
      "\n",
      "              precision    recall  f1-score   support\n",
      "\n",
      "           1       0.33      0.29      0.31         7\n",
      "           0       0.79      0.83      0.81        23\n",
      "\n",
      "   micro avg       0.70      0.70      0.70        30\n",
      "   macro avg       0.56      0.56      0.56        30\n",
      "weighted avg       0.68      0.70      0.69        30\n",
      "\n"
     ]
    }
   ],
   "source": [
    "print (\"Confusion Matrix for Random Forest\")\n",
    "# labels for set 1=True to upper left and 0 = False to lower right\n",
    "print (\"{0}\".format(metrics.confusion_matrix(y_test, rf_predict_test, labels=[1, 0])))\n",
    "print (\"\")\n",
    "print (\"Classification Report\\n\")\n",
    "# labels for set 1=True to upper left and 0 = False to lower right\n",
    "print (\"{0}\".format(metrics.classification_report(y_test, rf_predict_test, labels=[1, 0])))\n"
   ]
  },
  {
   "cell_type": "markdown",
   "metadata": {
    "colab_type": "text",
    "id": "1thIUNRNh_RA"
   },
   "source": [
    "# Model Performance Revision - ROC(Receiver Operating Characteristics)"
   ]
  },
  {
   "cell_type": "code",
   "execution_count": 35,
   "metadata": {
    "colab": {
     "base_uri": "https://localhost:8080/",
     "height": 295
    },
    "colab_type": "code",
    "executionInfo": {
     "elapsed": 1243,
     "status": "ok",
     "timestamp": 1557948334132,
     "user": {
      "displayName": "Md. Josim Uddin",
      "photoUrl": "https://lh6.googleusercontent.com/-2M7C8k0AC7o/AAAAAAAAAAI/AAAAAAAADao/mZMp7-uOgNk/s64/photo.jpg",
      "userId": "09483004877373085284"
     },
     "user_tz": -360
    },
    "id": "AAAF_X1bh139",
    "outputId": "aacbede7-b1b7-4202-dfa0-493c55e39402"
   },
   "outputs": [
    {
     "data": {
      "image/png": "[encoded data removed]",
      "text/plain": [
       "<Figure size 432x288 with 1 Axes>"
      ]
     },
     "metadata": {
      "tags": []
     },
     "output_type": "display_data"
    }
   ],
   "source": [
    "import numpy as np\n",
    "import matplotlib.pyplot as plt\n",
    "# fpr, tpr\n",
    "naive_bayes = np.array([0.28, 0.63])\n",
    "logistic = np.array([0.77, 0.77])\n",
    "random_forest = np.array([0.88, 0.24])\n",
    "ann = np.array([0.12, 0.76])\n",
    "# plotting\n",
    "plt.scatter(naive_bayes[0], naive_bayes[1], label = 'Naive Bayes', facecolors='black', edgecolors='orange', s=300)\n",
    "plt.scatter(logistic[0], logistic[1], label = 'Logistic Regression', facecolors='orange', edgecolors='orange', s=300)\n",
    "plt.scatter(random_forest[0], random_forest[1], label = 'Random Forest', facecolors='blue', edgecolors='black', s=300)\n",
    "plt.scatter(ann[0], ann[1], label = 'Artificial Neural Network', facecolors='red', edgecolors='black', s=300)\n",
    "plt.plot([0, 1], [0, 1], 'k--')\n",
    "plt.xlim([0.0, 1.0])\n",
    "plt.ylim([0.0, 1.0])\n",
    "plt.xlabel('False Positive Rate')\n",
    "plt.ylabel('True Positive Rate')\n",
    "plt.title('Receiver operating characteristic example')\n",
    "plt.legend(loc='lower center')\n",
    "plt.show()"
   ]
  },
  {
   "cell_type": "markdown",
   "metadata": {
    "colab_type": "text",
    "id": "wFX3vOYOAI4Y"
   },
   "source": [
    "# Area Under Curve (AUC)"
   ]
  },
  {
   "cell_type": "markdown",
   "metadata": {
    "colab_type": "text",
    "id": "qFF82NngAx7o"
   },
   "source": [
    "# Overfitting"
   ]
  },
  {
   "cell_type": "code",
   "execution_count": 0,
   "metadata": {
    "colab": {},
    "colab_type": "code",
    "id": "6Oq3UZ7sikkc"
   },
   "outputs": [],
   "source": []
  }
 ],
 "metadata": {
  "colab": {
   "name": "Manash_Book.ipynb",
   "provenance": [],
   "version": "0.3.2"
  },
  "kernelspec": {
   "display_name": "Python 3",
   "language": "python",
   "name": "python3"
  },
  "language_info": {
   "codemirror_mode": {
    "name": "ipython",
    "version": 3
   },
   "file_extension": ".py",
   "mimetype": "text/x-python",
   "name": "python",
   "nbconvert_exporter": "python",
   "pygments_lexer": "ipython3",
   "version": "3.7.1"
  }
 },
 "nbformat": 4,
 "nbformat_minor": 1
}
